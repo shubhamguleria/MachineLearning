{
 "cells": [
  {
   "cell_type": "code",
   "execution_count": null,
   "metadata": {},
   "outputs": [],
   "source": [
    "import pandas as pd"
   ]
  },
  {
   "cell_type": "code",
   "execution_count": null,
   "metadata": {},
   "outputs": [],
   "source": [
    "#Q1: Creating Dataframe\n",
    "data = {\"Name\":[\"vivek\",\"mehak\",\"kanchan\",\"annu\",\"abhishek\"],\"Age\":[16,12,20,18,16],\"Mail_id\":['vivek123@gmail.com','mehak12@gmail.com','ks123@gmail.com','harry21@gmail.com','aisha26@gmil.com'],\"Phone_no.\":787898967,7879976567,9876778897,9856347658,986745876,5678798798]}"
   ]
  }
 ],
 "metadata": {
  "kernelspec": {
   "display_name": "Python 3",
   "language": "python",
   "name": "python3"
  },
  "language_info": {
   "codemirror_mode": {
    "name": "ipython",
    "version": 3
   },
   "file_extension": ".py",
   "mimetype": "text/x-python",
   "name": "python",
   "nbconvert_exporter": "python",
   "pygments_lexer": "ipython3",
   "version": "3.7.1"
  }
 },
 "nbformat": 4,
 "nbformat_minor": 2
}
