{
 "cells": [
  {
   "cell_type": "code",
   "execution_count": 3,
   "metadata": {},
   "outputs": [],
   "source": [
    "import pandas as pd\n"
   ]
  },
  {
   "cell_type": "code",
   "execution_count": 17,
   "metadata": {},
   "outputs": [
    {
     "name": "stdout",
     "output_type": "stream",
     "text": [
      "0      24.3\n",
      "1      26.9\n",
      "2      23.4\n",
      "3      15.5\n",
      "4      16.1\n",
      "5      16.9\n",
      "6      18.2\n",
      "7      17.0\n",
      "8      19.5\n",
      "9      22.8\n",
      "10     25.2\n",
      "11     27.3\n",
      "12     27.9\n",
      "13     30.9\n",
      "14     31.2\n",
      "15     32.1\n",
      "16     31.2\n",
      "17     30.0\n",
      "18     32.3\n",
      "19     33.4\n",
      "20     33.4\n",
      "21     19.4\n",
      "22     18.5\n",
      "23     24.3\n",
      "24     28.4\n",
      "25     26.9\n",
      "26     22.2\n",
      "27     28.0\n",
      "28     24.3\n",
      "29     24.1\n",
      "       ... \n",
      "336    27.6\n",
      "337    28.9\n",
      "338    20.7\n",
      "339    21.3\n",
      "340    18.0\n",
      "341    16.0\n",
      "342    17.9\n",
      "343    20.0\n",
      "344    22.0\n",
      "345    22.4\n",
      "346    23.9\n",
      "347    26.1\n",
      "348    21.1\n",
      "349    19.6\n",
      "350    21.0\n",
      "351    24.1\n",
      "352    24.7\n",
      "353    28.5\n",
      "354    27.4\n",
      "355    20.6\n",
      "356    15.0\n",
      "357    18.0\n",
      "358    20.7\n",
      "359    25.5\n",
      "360    26.1\n",
      "361    30.7\n",
      "362    28.4\n",
      "363    19.9\n",
      "364    26.9\n",
      "365    30.2\n",
      "Name: MaxTemp, Length: 366, dtype: float64\n"
     ]
    }
   ],
   "source": [
    "#Q1: Weather using Pandas\n",
    "df = pd.read_csv(\"https://raw.githubusercontent.com/Shreyas3108/Weather/master/weather.csv\")\n",
    "print(df.isnull())    #checks the null data\n",
    "print(df.sum())       #finds the sum of the data\n",
    "print(df.dropna())    #Drops the missing values\n",
    "dm = df.mean()\n",
    "print(df.fillna(dm))   #Replaces the null values with mean of the column series.\n",
    "print(df.dtypes)       #Finds individuals datatypes\n",
    "dt = df[\"MaxTemp\"]\n",
    "ds = pd.Series(dt)     #Copies the MaxTemp column to series\n",
    "print(ds)"
   ]
  },
  {
   "cell_type": "code",
   "execution_count": null,
   "metadata": {},
   "outputs": [],
   "source": []
  }
 ],
 "metadata": {
  "kernelspec": {
   "display_name": "Python 3",
   "language": "python",
   "name": "python3"
  },
  "language_info": {
   "codemirror_mode": {
    "name": "ipython",
    "version": 3
   },
   "file_extension": ".py",
   "mimetype": "text/x-python",
   "name": "python",
   "nbconvert_exporter": "python",
   "pygments_lexer": "ipython3",
   "version": "3.7.1"
  }
 },
 "nbformat": 4,
 "nbformat_minor": 2
}
